{
 "cells": [
  {
   "cell_type": "markdown",
   "metadata": {},
   "source": [
    "# The notebook to preprocess articles data"
   ]
  },
  {
   "cell_type": "markdown",
   "metadata": {},
   "source": [
    "##  1) Import and download all necessary data"
   ]
  },
  {
   "cell_type": "code",
   "execution_count": 8,
   "metadata": {},
   "outputs": [],
   "source": [
    "import json\n",
    "import nltk\n",
    "from nltk.corpus import stopwords\n",
    "from nltk.tokenize import word_tokenize\n",
    "from nltk.stem import WordNetLemmatizer\n",
    "import string\n",
    "import pandas as pd"
   ]
  },
  {
   "cell_type": "code",
   "execution_count": 2,
   "metadata": {},
   "outputs": [
    {
     "name": "stderr",
     "output_type": "stream",
     "text": [
      "[nltk_data] Downloading package punkt to\n",
      "[nltk_data]     /Users/nathanwandji/nltk_data...\n",
      "[nltk_data]   Package punkt is already up-to-date!\n",
      "[nltk_data] Downloading package stopwords to\n",
      "[nltk_data]     /Users/nathanwandji/nltk_data...\n",
      "[nltk_data]   Package stopwords is already up-to-date!\n",
      "[nltk_data] Downloading package wordnet to\n",
      "[nltk_data]     /Users/nathanwandji/nltk_data...\n",
      "[nltk_data]   Package wordnet is already up-to-date!\n"
     ]
    },
    {
     "data": {
      "text/plain": [
       "True"
      ]
     },
     "execution_count": 2,
     "metadata": {},
     "output_type": "execute_result"
    }
   ],
   "source": [
    "nltk.download('punkt')\n",
    "nltk.download('stopwords')\n",
    "nltk.download('wordnet')"
   ]
  },
  {
   "cell_type": "markdown",
   "metadata": {},
   "source": [
    "## 2) Processsing functions "
   ]
  },
  {
   "cell_type": "markdown",
   "metadata": {},
   "source": [
    "### a) Fonction pour normaliser le texte"
   ]
  },
  {
   "cell_type": "code",
   "execution_count": 3,
   "metadata": {},
   "outputs": [],
   "source": [
    "def normalize_text(text):\n",
    "    # Convertir en minuscules\n",
    "    text = text.lower()\n",
    "    # Suppresion la ponctuation\n",
    "    text = text.translate(str.maketrans('', '', string.punctuation))\n",
    "    return text"
   ]
  },
  {
   "cell_type": "markdown",
   "metadata": {},
   "source": [
    "### b) Fonction pour tokeniser le texte"
   ]
  },
  {
   "cell_type": "code",
   "execution_count": 4,
   "metadata": {},
   "outputs": [],
   "source": [
    "def tokenize_text(text):\n",
    "    return word_tokenize(text)"
   ]
  },
  {
   "cell_type": "markdown",
   "metadata": {},
   "source": [
    "### c) Fonction pour retirer les stop words"
   ]
  },
  {
   "cell_type": "code",
   "execution_count": 5,
   "metadata": {},
   "outputs": [],
   "source": [
    "def remove_stop_words(tokens):\n",
    "    stop_words_set = set(stopwords.words('english'))\n",
    "    return [token for token in tokens if token not in stop_words_set]"
   ]
  },
  {
   "cell_type": "markdown",
   "metadata": {},
   "source": [
    "### d) Fonction pour lemmatiser les tokens"
   ]
  },
  {
   "cell_type": "code",
   "execution_count": 6,
   "metadata": {},
   "outputs": [],
   "source": [
    "def lemmatize_tokens(tokens):\n",
    "    lemmatizer = WordNetLemmatizer()\n",
    "    return [lemmatizer.lemmatize(token) for token in tokens]"
   ]
  },
  {
   "cell_type": "markdown",
   "metadata": {},
   "source": [
    "## e) Fonction de traitement globale "
   ]
  },
  {
   "cell_type": "code",
   "execution_count": 7,
   "metadata": {},
   "outputs": [],
   "source": [
    "def process_text_in_dataframe(df, column):\n",
    "    # Normalisation\n",
    "    df[column] = df[column].apply(normalize_text)\n",
    "    \n",
    "    # Tokenisation\n",
    "    df[f'{column}_processed'] = df[column].apply(tokenize_text)\n",
    "    \n",
    "    # Suppression des mots vides\n",
    "    df[f'{column}_processed'] = df[f'{column}_processed'].apply(remove_stop_words)\n",
    "    \n",
    "    # Lemmatisation\n",
    "    df[f'{column}_processed'] = df[f'{column}_processed'].apply(lemmatize_tokens)\n",
    "    \n",
    "    # Rejoindre les tokens lemmatisés en une chaîne de caractères\n",
    "    df[f'{column}_processed'] = df[f'{column}_processed'].apply(lambda tokens: ' '.join(tokens))\n",
    "    \n",
    "    return df"
   ]
  },
  {
   "cell_type": "code",
   "execution_count": 12,
   "metadata": {},
   "outputs": [],
   "source": [
    "# Charger les données\n",
    "\n",
    "df_wiki_article = pd.read_csv('wilkipedia_articles.csv')"
   ]
  },
  {
   "cell_type": "code",
   "execution_count": 13,
   "metadata": {},
   "outputs": [
    {
     "data": {
      "text/html": [
       "<div>\n",
       "<style scoped>\n",
       "    .dataframe tbody tr th:only-of-type {\n",
       "        vertical-align: middle;\n",
       "    }\n",
       "\n",
       "    .dataframe tbody tr th {\n",
       "        vertical-align: top;\n",
       "    }\n",
       "\n",
       "    .dataframe thead th {\n",
       "        text-align: right;\n",
       "    }\n",
       "</style>\n",
       "<table border=\"1\" class=\"dataframe\">\n",
       "  <thead>\n",
       "    <tr style=\"text-align: right;\">\n",
       "      <th></th>\n",
       "      <th>title</th>\n",
       "      <th>url</th>\n",
       "      <th>extract</th>\n",
       "      <th>publication_date</th>\n",
       "      <th>references</th>\n",
       "    </tr>\n",
       "  </thead>\n",
       "  <tbody>\n",
       "    <tr>\n",
       "      <th>0</th>\n",
       "      <td>Animal</td>\n",
       "      <td>https://en.wikipedia.org/wiki/Animal</td>\n",
       "      <td>Animals are multicellular, eukaryotic organism...</td>\n",
       "      <td>2024-01-29</td>\n",
       "      <td>['https://en.oxforddictionaries.com/definition...</td>\n",
       "    </tr>\n",
       "    <tr>\n",
       "      <th>1</th>\n",
       "      <td>The Animals</td>\n",
       "      <td>https://en.wikipedia.org/wiki/The_Animals</td>\n",
       "      <td>The Animals (also billed as Eric Burdon and th...</td>\n",
       "      <td>2024-02-03</td>\n",
       "      <td>['https://www.rollingstone.com/music/artists/t...</td>\n",
       "    </tr>\n",
       "    <tr>\n",
       "      <th>2</th>\n",
       "      <td>Animals, Animals, Animals</td>\n",
       "      <td>https://en.wikipedia.org/wiki/Animals,_Animals...</td>\n",
       "      <td>Animals, Animals, Animals is a 1976–1981 educa...</td>\n",
       "      <td>2023-02-15</td>\n",
       "      <td>['https://www.imdb.com/title/tt0231010/', 'htt...</td>\n",
       "    </tr>\n",
       "    <tr>\n",
       "      <th>3</th>\n",
       "      <td>Fastest animals</td>\n",
       "      <td>https://en.wikipedia.org/wiki/Fastest_animals</td>\n",
       "      <td>This is a list of the fastest animals in the w...</td>\n",
       "      <td>2024-01-15</td>\n",
       "      <td>['https://www.sciencedaily.com/releases/2012/0...</td>\n",
       "    </tr>\n",
       "    <tr>\n",
       "      <th>4</th>\n",
       "      <td>Animal rights</td>\n",
       "      <td>https://en.wikipedia.org/wiki/Animal_rights</td>\n",
       "      <td>Animal rights is the philosophy according to w...</td>\n",
       "      <td>2024-01-20</td>\n",
       "      <td>['http://www.city-journal.org/html/10_3_urbani...</td>\n",
       "    </tr>\n",
       "  </tbody>\n",
       "</table>\n",
       "</div>"
      ],
      "text/plain": [
       "                       title  \\\n",
       "0                     Animal   \n",
       "1                The Animals   \n",
       "2  Animals, Animals, Animals   \n",
       "3            Fastest animals   \n",
       "4              Animal rights   \n",
       "\n",
       "                                                 url  \\\n",
       "0               https://en.wikipedia.org/wiki/Animal   \n",
       "1          https://en.wikipedia.org/wiki/The_Animals   \n",
       "2  https://en.wikipedia.org/wiki/Animals,_Animals...   \n",
       "3      https://en.wikipedia.org/wiki/Fastest_animals   \n",
       "4        https://en.wikipedia.org/wiki/Animal_rights   \n",
       "\n",
       "                                             extract publication_date  \\\n",
       "0  Animals are multicellular, eukaryotic organism...       2024-01-29   \n",
       "1  The Animals (also billed as Eric Burdon and th...       2024-02-03   \n",
       "2  Animals, Animals, Animals is a 1976–1981 educa...       2023-02-15   \n",
       "3  This is a list of the fastest animals in the w...       2024-01-15   \n",
       "4  Animal rights is the philosophy according to w...       2024-01-20   \n",
       "\n",
       "                                          references  \n",
       "0  ['https://en.oxforddictionaries.com/definition...  \n",
       "1  ['https://www.rollingstone.com/music/artists/t...  \n",
       "2  ['https://www.imdb.com/title/tt0231010/', 'htt...  \n",
       "3  ['https://www.sciencedaily.com/releases/2012/0...  \n",
       "4  ['http://www.city-journal.org/html/10_3_urbani...  "
      ]
     },
     "execution_count": 13,
     "metadata": {},
     "output_type": "execute_result"
    }
   ],
   "source": [
    "df_wiki_article.head()"
   ]
  },
  {
   "cell_type": "code",
   "execution_count": 14,
   "metadata": {},
   "outputs": [],
   "source": [
    "# Use the following code to test the function on \"extratct\" column\n",
    "df_wiki_article_preprocessed = process_text_in_dataframe(df_wiki_article, 'extract')"
   ]
  },
  {
   "cell_type": "code",
   "execution_count": 15,
   "metadata": {},
   "outputs": [
    {
     "data": {
      "text/html": [
       "<div>\n",
       "<style scoped>\n",
       "    .dataframe tbody tr th:only-of-type {\n",
       "        vertical-align: middle;\n",
       "    }\n",
       "\n",
       "    .dataframe tbody tr th {\n",
       "        vertical-align: top;\n",
       "    }\n",
       "\n",
       "    .dataframe thead th {\n",
       "        text-align: right;\n",
       "    }\n",
       "</style>\n",
       "<table border=\"1\" class=\"dataframe\">\n",
       "  <thead>\n",
       "    <tr style=\"text-align: right;\">\n",
       "      <th></th>\n",
       "      <th>title</th>\n",
       "      <th>url</th>\n",
       "      <th>extract</th>\n",
       "      <th>publication_date</th>\n",
       "      <th>references</th>\n",
       "      <th>extract_processed</th>\n",
       "    </tr>\n",
       "  </thead>\n",
       "  <tbody>\n",
       "    <tr>\n",
       "      <th>0</th>\n",
       "      <td>Animal</td>\n",
       "      <td>https://en.wikipedia.org/wiki/Animal</td>\n",
       "      <td>animals are multicellular eukaryotic organisms...</td>\n",
       "      <td>2024-01-29</td>\n",
       "      <td>['https://en.oxforddictionaries.com/definition...</td>\n",
       "      <td>animal multicellular eukaryotic organism biolo...</td>\n",
       "    </tr>\n",
       "    <tr>\n",
       "      <th>1</th>\n",
       "      <td>The Animals</td>\n",
       "      <td>https://en.wikipedia.org/wiki/The_Animals</td>\n",
       "      <td>the animals also billed as eric burdon and the...</td>\n",
       "      <td>2024-02-03</td>\n",
       "      <td>['https://www.rollingstone.com/music/artists/t...</td>\n",
       "      <td>animal also billed eric burdon animal english ...</td>\n",
       "    </tr>\n",
       "    <tr>\n",
       "      <th>2</th>\n",
       "      <td>Animals, Animals, Animals</td>\n",
       "      <td>https://en.wikipedia.org/wiki/Animals,_Animals...</td>\n",
       "      <td>animals animals animals is a 1976–1981 educati...</td>\n",
       "      <td>2023-02-15</td>\n",
       "      <td>['https://www.imdb.com/title/tt0231010/', 'htt...</td>\n",
       "      <td>animal animal animal 1976–1981 educational tel...</td>\n",
       "    </tr>\n",
       "    <tr>\n",
       "      <th>3</th>\n",
       "      <td>Fastest animals</td>\n",
       "      <td>https://en.wikipedia.org/wiki/Fastest_animals</td>\n",
       "      <td>this is a list of the fastest animals in the w...</td>\n",
       "      <td>2024-01-15</td>\n",
       "      <td>['https://www.sciencedaily.com/releases/2012/0...</td>\n",
       "      <td>list fastest animal world type animal</td>\n",
       "    </tr>\n",
       "    <tr>\n",
       "      <th>4</th>\n",
       "      <td>Animal rights</td>\n",
       "      <td>https://en.wikipedia.org/wiki/Animal_rights</td>\n",
       "      <td>animal rights is the philosophy according to w...</td>\n",
       "      <td>2024-01-20</td>\n",
       "      <td>['http://www.city-journal.org/html/10_3_urbani...</td>\n",
       "      <td>animal right philosophy according many sentien...</td>\n",
       "    </tr>\n",
       "  </tbody>\n",
       "</table>\n",
       "</div>"
      ],
      "text/plain": [
       "                       title  \\\n",
       "0                     Animal   \n",
       "1                The Animals   \n",
       "2  Animals, Animals, Animals   \n",
       "3            Fastest animals   \n",
       "4              Animal rights   \n",
       "\n",
       "                                                 url  \\\n",
       "0               https://en.wikipedia.org/wiki/Animal   \n",
       "1          https://en.wikipedia.org/wiki/The_Animals   \n",
       "2  https://en.wikipedia.org/wiki/Animals,_Animals...   \n",
       "3      https://en.wikipedia.org/wiki/Fastest_animals   \n",
       "4        https://en.wikipedia.org/wiki/Animal_rights   \n",
       "\n",
       "                                             extract publication_date  \\\n",
       "0  animals are multicellular eukaryotic organisms...       2024-01-29   \n",
       "1  the animals also billed as eric burdon and the...       2024-02-03   \n",
       "2  animals animals animals is a 1976–1981 educati...       2023-02-15   \n",
       "3  this is a list of the fastest animals in the w...       2024-01-15   \n",
       "4  animal rights is the philosophy according to w...       2024-01-20   \n",
       "\n",
       "                                          references  \\\n",
       "0  ['https://en.oxforddictionaries.com/definition...   \n",
       "1  ['https://www.rollingstone.com/music/artists/t...   \n",
       "2  ['https://www.imdb.com/title/tt0231010/', 'htt...   \n",
       "3  ['https://www.sciencedaily.com/releases/2012/0...   \n",
       "4  ['http://www.city-journal.org/html/10_3_urbani...   \n",
       "\n",
       "                                   extract_processed  \n",
       "0  animal multicellular eukaryotic organism biolo...  \n",
       "1  animal also billed eric burdon animal english ...  \n",
       "2  animal animal animal 1976–1981 educational tel...  \n",
       "3              list fastest animal world type animal  \n",
       "4  animal right philosophy according many sentien...  "
      ]
     },
     "execution_count": 15,
     "metadata": {},
     "output_type": "execute_result"
    }
   ],
   "source": [
    "df_wiki_article_preprocessed.head()"
   ]
  },
  {
   "cell_type": "markdown",
   "metadata": {},
   "source": [
    "## 3) Extraction and indexation of features "
   ]
  },
  {
   "cell_type": "code",
   "execution_count": null,
   "metadata": {},
   "outputs": [],
   "source": []
  }
 ],
 "metadata": {
  "kernelspec": {
   "display_name": "base",
   "language": "python",
   "name": "python3"
  },
  "language_info": {
   "codemirror_mode": {
    "name": "ipython",
    "version": 3
   },
   "file_extension": ".py",
   "mimetype": "text/x-python",
   "name": "python",
   "nbconvert_exporter": "python",
   "pygments_lexer": "ipython3",
   "version": "3.10.9"
  },
  "orig_nbformat": 4
 },
 "nbformat": 4,
 "nbformat_minor": 2
}
